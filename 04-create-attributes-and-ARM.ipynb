{
 "cells": [
  {
   "cell_type": "code",
   "execution_count": 1,
   "id": "0817ddc4-e285-4614-90b5-639e895f21b3",
   "metadata": {},
   "outputs": [
    {
     "name": "stdout",
     "output_type": "stream",
     "text": [
      "24/11/29 16:23:18 WARN SparkSession: Using an existing Spark session; only runtime SQL configurations will take effect.\n"
     ]
    }
   ],
   "source": [
    "from pyspark.sql import SparkSession\n",
    "from pyspark.sql import functions as F\n",
    "from pyspark.sql.types import ArrayType, IntegerType, FloatType, StringType\n",
    "\n",
    "spark = SparkSession \\\n",
    "        .builder \\\n",
    "        .appName(\"frequent_itemsets\") \\\n",
    "        .getOrCreate()"
   ]
  },
  {
   "cell_type": "code",
   "execution_count": 2,
   "id": "6ca5f587-d0af-4e88-9e1f-2e1adc020308",
   "metadata": {},
   "outputs": [],
   "source": [
    "data = spark.read.parquet(\"../data/data_with_topics.parquet\").dropna()"
   ]
  },
  {
   "cell_type": "code",
   "execution_count": 3,
   "id": "e4c9d47d-39a1-448f-9c0a-99a64d5fdbb7",
   "metadata": {},
   "outputs": [
    {
     "name": "stdout",
     "output_type": "stream",
     "text": [
      "+-------+--------------------+--------------------+--------------------+--------------------+--------------------+--------------------+--------------------+--------------------+--------------------+--------------------+-------+-------+-------+---------+-------+-----+\n",
      "|     id|        cleaned_text|              topic0|              topic1|              topic2|              topic3|              topic4|              topic5|              topic6|              topic7|              topic8|emo_pos|emo_neg|emo_anx|emo_anger|emo_sad|moral|\n",
      "+-------+--------------------+--------------------+--------------------+--------------------+--------------------+--------------------+--------------------+--------------------+--------------------+--------------------+-------+-------+-------+---------+-------+-----+\n",
      "|1001mlo|hi im a 24 f who ...| 0.11968858380250595|7.442736887136972E-4| 0.06107536248365846|9.333486297156222E-4|0.052468338961077526|9.792222275302406E-4|0.001049030320834...| 0.06325942409438505|  0.6998024157915789|    1.0|   1.34|   0.67|     0.33|    0.0| 0.67|\n",
      "|1001vtv|ive been on self ...|  0.2406425624965043|0.001553058646376303|0.001580358927133049|0.001947490944075...|  0.5832626163392552| 0.00204335996253334|0.002189756797521941| 0.16474958329374315|0.002031212592857...|    2.1|    2.1|    0.0|      1.4|    0.0|  0.7|\n",
      "|1002gvr|hey guys bit of a...|0.001506189156422...|  0.2374140730146653|0.001189272937298974| 0.09047351178042161|0.001977987997028...|0.001537522920522039|0.001648031129459357|  0.5395750511540571| 0.12467835991012428|   5.46|   1.09|    0.0|     0.55|    0.0| 1.09|\n",
      "|1002unz|i tried to make p...|0.004428418819981259| 0.00343723137694298|0.003497666368667...|  0.4746831102507097| 0.00580065534224506|0.004521700491371536|0.004844145278145958| 0.49429217565065575|0.004494896421280407|   3.64|    0.0|    0.0|      0.0|    0.0|  0.0|\n",
      "|1008r6k|i am planning on ...|0.003120387120775875|0.002421162698436...|0.002463704474022359|0.003036324694280...|0.004087722456190831|0.003185091756056...| 0.47311452915793883|0.003119769988701001|   0.505451307653597|    0.0|    0.0|    0.0|      0.0|    0.0|  0.0|\n",
      "+-------+--------------------+--------------------+--------------------+--------------------+--------------------+--------------------+--------------------+--------------------+--------------------+--------------------+-------+-------+-------+---------+-------+-----+\n",
      "only showing top 5 rows\n",
      "\n"
     ]
    }
   ],
   "source": [
    "data.show(5)"
   ]
  },
  {
   "cell_type": "markdown",
   "id": "7887f72a",
   "metadata": {},
   "source": [
    "## Convert topic probabilities and LIWC scores into \"attributes\" for Association Rules Mining. \n",
    "\n",
    "These attributes correspond to either the presence or absence of a given topic or emotional/moral language, based on thresholds. \n",
    "\n",
    "Eg: \"document x has: topic 1, topic 4, moral language and negative emotional language\""
   ]
  },
  {
   "cell_type": "code",
   "execution_count": 4,
   "id": "9affd574-981a-4d6f-a389-695d2bcd9be3",
   "metadata": {},
   "outputs": [],
   "source": [
    "#Create dictionary of topics where each topic has a tuple as value: \n",
    "\n",
    "#First value of tuple corresponds to threshold to consider a topic probable enough\n",
    "#in a document (0.20 for all topics, decided after observing a distribution of\n",
    "#topics probabilities and manually checking for results of assignments.\n",
    "\n",
    "#Second value is just the number of the topic to identify the document\n",
    "\n",
    "mapping_topics = {\n",
    "    'topic0': (0.2, 0),\n",
    "    'topic1': (0.2, 1),\n",
    "    'topic2': (0.2, 2),\n",
    "    'topic3': (0.2, 3),\n",
    "    'topic4': (0.2, 4),\n",
    "    'topic5': (0.2, 5),\n",
    "    'topic6': (0.2, 6),\n",
    "    'topic7': (0.2, 7),\n",
    "    'topic8': (0.2, 8)}\n",
    "\n",
    "#Same logic for dictionary construction of morality values\n",
    "\n",
    "#Thresholds defined as higher than the means of scores in blogs for the development\n",
    "#of the dictionary \n",
    "#Boyd, R. L. (n.d.). The Development and Psychometric Properties of LIWC-22.\n",
    "mapping_emotions = {\n",
    "    'emo_pos': (1.17, 11),\n",
    "    'emo_neg': (0.81, 12),\n",
    "    'moral': (0.28, 13)}\n",
    "\n",
    "def create_items(input_df, mapping, output_col):\n",
    "    # Create a new column with the integers corresponding to attributes where\n",
    "        #values are higher than the threshold. \n",
    "        df = input_df.withColumn(\n",
    "        \"relevant\",\n",
    "        F.array(*[\n",
    "        F.when(F.col(col) > threshold, F.lit(value)).otherwise(None) \n",
    "        for col, (threshold, value) in mapping.items()]))\n",
    "\n",
    "        # Filter out None values from the array\n",
    "        df = df.withColumn(f\"{output_col}\", F.expr(\"filter(relevant, x -> x is not null)\"))\n",
    "        df = df.drop(\"relevant\")\n",
    "        \n",
    "        return df "
   ]
  },
  {
   "cell_type": "code",
   "execution_count": 5,
   "id": "01fb8204-dc3f-4288-b68c-4f5757af1ce1",
   "metadata": {},
   "outputs": [
    {
     "name": "stdout",
     "output_type": "stream",
     "text": [
      "+---------------+\n",
      "|relevant_topics|\n",
      "+---------------+\n",
      "|            [8]|\n",
      "|         [0, 4]|\n",
      "|         [1, 7]|\n",
      "|         [3, 7]|\n",
      "|         [6, 8]|\n",
      "+---------------+\n",
      "only showing top 5 rows\n",
      "\n",
      "+---------------+--------------------+\n",
      "|relevant_topics|relevant_liwc_scores|\n",
      "+---------------+--------------------+\n",
      "|            [8]|            [12, 13]|\n",
      "|         [0, 4]|        [11, 12, 13]|\n",
      "|         [1, 7]|        [11, 12, 13]|\n",
      "|         [3, 7]|                [11]|\n",
      "|         [6, 8]|                  []|\n",
      "+---------------+--------------------+\n",
      "only showing top 5 rows\n",
      "\n",
      "+------------------+\n",
      "|     relevant_attr|\n",
      "+------------------+\n",
      "|       [8, 12, 13]|\n",
      "|[0, 4, 11, 12, 13]|\n",
      "|[1, 7, 11, 12, 13]|\n",
      "|        [3, 7, 11]|\n",
      "|            [6, 8]|\n",
      "+------------------+\n",
      "only showing top 5 rows\n",
      "\n"
     ]
    },
    {
     "name": "stderr",
     "output_type": "stream",
     "text": [
      "                                                                                \r"
     ]
    }
   ],
   "source": [
    "df_topics = create_items(data, mapping_topics, \"relevant_topics\")\n",
    "df_liwc = create_items(df_topics, mapping_emotions, \"relevant_liwc_scores\")\n",
    "df_topics.select('relevant_topics').show(5)\n",
    "df_liwc.select('relevant_topics', 'relevant_liwc_scores').show(5)\n",
    "\n",
    "df = df_liwc.withColumn(\"relevant_attr\", F.concat(df_liwc[\"relevant_topics\"], df_liwc[\"relevant_liwc_scores\"]))\n",
    "df.select('relevant_attr').show(5)\n",
    "\n",
    "#Save file for usage later \n",
    "df.write.mode(\"overwrite\").parquet(\"../data/data_with_attributes.parquet\")"
   ]
  },
  {
   "cell_type": "markdown",
   "id": "8488a847",
   "metadata": {},
   "source": [
    "## Association Rules Mining"
   ]
  },
  {
   "cell_type": "code",
   "execution_count": 6,
   "id": "1bbb4dd7-5151-4870-8c6f-d1470c8dc609",
   "metadata": {},
   "outputs": [
    {
     "name": "stderr",
     "output_type": "stream",
     "text": [
      "[Stage 10:>                                                       (0 + 10) / 11]\r"
     ]
    },
    {
     "name": "stdout",
     "output_type": "stream",
     "text": [
      "+----------+----------+------------------+------------------+-------------------+\n",
      "|antecedent|consequent|confidence        |lift              |support            |\n",
      "+----------+----------+------------------+------------------+-------------------+\n",
      "|[0]       |[12]      |0.5848391026291747|1.326063905955136 |0.13619842200135931|\n",
      "|[7]       |[11]      |0.5295764100163819|1.2826948079952165|0.11144886279685977|\n",
      "|[5]       |[12]      |0.5221016410799365|1.1838130151756199|0.11657686587011554|\n",
      "|[13]      |[12]      |0.5128201448141743|1.1627681549124225|0.140782695205918  |\n",
      "+----------+----------+------------------+------------------+-------------------+\n",
      "\n"
     ]
    },
    {
     "name": "stderr",
     "output_type": "stream",
     "text": [
      "                                                                                \r"
     ]
    }
   ],
   "source": [
    "from pyspark.ml.fpm import FPGrowth\n",
    "\n",
    "fp = FPGrowth(minConfidence=0.5, minSupport=0.1)\n",
    "fpm = fp.fit(df.select(df.relevant_attr.alias('items')))\n",
    "fpm.associationRules.orderBy(\"lift\", \"confidence\", ascending=False).show(truncate=False)"
   ]
  },
  {
   "cell_type": "markdown",
   "id": "f7e809c4-9ab1-4146-8f4b-9304caa1d742",
   "metadata": {},
   "source": [
    "- When mental health is discussed, it's 32% more likely to be discussed with negative emotional language\n",
    "- When social interaction is discussed, it's 28% more likely be discussed with positive emotional language"
   ]
  },
  {
   "cell_type": "code",
   "execution_count": 7,
   "id": "0aeb4c7d-1874-4c6b-83f5-499cb45c2554",
   "metadata": {},
   "outputs": [
    {
     "name": "stderr",
     "output_type": "stream",
     "text": [
      "[Stage 18:=========================================>               (8 + 3) / 11]\r"
     ]
    },
    {
     "name": "stdout",
     "output_type": "stream",
     "text": [
      "+-----------+----------+------------------+------------------+--------------------+\n",
      "|antecedent |consequent|confidence        |lift              |support             |\n",
      "+-----------+----------+------------------+------------------+--------------------+\n",
      "|[5, 0, 13] |[12]      |0.6893991206643869|1.5631432416206035|0.01390057229538716 |\n",
      "|[5, 0]     |[12]      |0.6503388786198399|1.474578067198627 |0.02911121836861339 |\n",
      "|[0, 13]    |[12]      |0.629139409982946 |1.426510401992189 |0.04869337378473419 |\n",
      "|[0, 13, 4] |[12]      |0.614774951076321 |1.393940434630193 |0.012377734655884005|\n",
      "|[7, 4]     |[11]      |0.5746488230827639|1.3918653622921413|0.023855162971207926|\n",
      "|[5, 0, 11] |[12]      |0.613556338028169 |1.3911773519785444|0.01098491937628668 |\n",
      "|[7, 4, 12] |[11]      |0.5603203568532036|1.357160173594965 |0.01088838762423538 |\n",
      "|[0, 13, 11]|[12]      |0.5962921422445074|1.352032522586772 |0.017805183164074426|\n",
      "|[2, 0]     |[12]      |0.5961912479740681|1.3518037549654793|0.014493553057988003|\n",
      "|[7, 0]     |[12]      |0.5900786377342873|1.3379440253856592|0.01966095684636676 |\n",
      "|[0]        |[12]      |0.5848391026291747|1.326063905955136 |0.13619842200135931 |\n",
      "|[0, 6]     |[12]      |0.5806044545397185|1.3164622668708044|0.01812826902808286 |\n",
      "|[3, 7]     |[11]      |0.5420012353304509|1.312789160045586 |0.017287063760207246|\n",
      "|[5, 13]    |[12]      |0.5781372107893055|1.310868039552713 |0.04809448291486491 |\n",
      "|[0, 4]     |[12]      |0.5756240822320118|1.3051697730451035|0.03243466868923671 |\n",
      "|[5, 13, 4] |[12]      |0.5727776264414782|1.2987157205257784|0.012426985549787729|\n",
      "|[7]        |[11]      |0.5295764100163819|1.2826948079952165|0.11144886279685977 |\n",
      "|[8, 0]     |[12]      |0.5618030681894979|1.2738320123121354|0.01637690724086642 |\n",
      "|[0, 4, 11] |[12]      |0.5603720050441362|1.2705872204100968|0.014006954226219205|\n",
      "|[0, 11]    |[12]      |0.5580380338771693|1.2652951752849657|0.05289546005259996 |\n",
      "+-----------+----------+------------------+------------------+--------------------+\n",
      "only showing top 20 rows\n",
      "\n"
     ]
    },
    {
     "name": "stderr",
     "output_type": "stream",
     "text": [
      "                                                                                \r"
     ]
    }
   ],
   "source": [
    "fp = FPGrowth(minConfidence=0.5, minSupport=0.01)\n",
    "fpm = fp.fit(df.select(df.relevant_attr.alias('items')))\n",
    "fpm.associationRules.orderBy(\"lift\", \"confidence\", ascending=False).show(truncate=False)"
   ]
  },
  {
   "cell_type": "markdown",
   "id": "0b58ed3c-29fd-40ff-94d4-284fc295c661",
   "metadata": {},
   "source": [
    "When personal struggles and mental health are discussed with a moral tone, it's 56% more likely to be discussed with an emotional negative tone. "
   ]
  },
  {
   "cell_type": "code",
   "execution_count": 8,
   "id": "efbd0d4b-036d-416b-bde7-b93e2d85a76c",
   "metadata": {},
   "outputs": [
    {
     "name": "stderr",
     "output_type": "stream",
     "text": [
      "[Stage 26:===============================>                         (6 + 5) / 11]\r"
     ]
    },
    {
     "name": "stdout",
     "output_type": "stream",
     "text": [
      "+--------------+----------+------------------+------------------+---------------------+\n",
      "|antecedent    |consequent|confidence        |lift              |support              |\n",
      "+--------------+----------+------------------+------------------+---------------------+\n",
      "|[5, 0, 4, 12] |[13]      |0.5140845070422535|1.8726228458868832|0.0021571891529831265|\n",
      "|[5, 0, 13, 4] |[12]      |0.7023733162283515|1.5925609265339968|0.0021571891529831265|\n",
      "|[5, 0, 13]    |[12]      |0.6893991206643869|1.5631432416206035|0.01390057229538716  |\n",
      "|[7, 5, 0, 13] |[12]      |0.6719128329297821|1.5234948410438245|0.0010933698446626806|\n",
      "|[5, 0, 4]     |[12]      |0.6647940074906367|1.507353619594698 |0.004196176160597315 |\n",
      "|[2, 5, 0]     |[12]      |0.6578332034294622|1.4915706957435853|0.0016627101781897342|\n",
      "|[5, 0]        |[12]      |0.6503388786198399|1.474578067198627 |0.02911121836861339  |\n",
      "|[5, 0, 13, 11]|[12]      |0.6495880535530381|1.472875646795654 |0.004970400212763862 |\n",
      "|[7, 5, 0]     |[12]      |0.6350606394707828|1.4399361949451548|0.002269481191083618 |\n",
      "|[5, 0, 4, 11] |[12]      |0.6323218066337333|1.4337261666598897|0.0017651520375094808|\n",
      "|[0, 13]       |[12]      |0.629139409982946 |1.426510401992189 |0.04869337378473419  |\n",
      "|[7, 0, 13]    |[12]      |0.6274785050008773|1.4227444668178117|0.007044847863988731 |\n",
      "|[5, 0, 6]     |[12]      |0.6263817243920413|1.4202576269817089|0.001674530392726628 |\n",
      "|[2, 0, 13]    |[12]      |0.6261127596439169|1.4196477764384419|0.004988130534569203 |\n",
      "|[8, 5, 0]     |[12]      |0.6236230110159119|1.4140025215714942|0.0020074664355158047|\n",
      "|[0, 6, 13]    |[12]      |0.6205479452054794|1.4070301188006815|0.004462130987677427 |\n",
      "|[7, 5, 0, 11] |[12]      |0.6195286195286195|1.4047189002408749|0.0010874597373942336|\n",
      "|[2, 7, 0]     |[12]      |0.6180995475113122|1.4014786230216494|0.0013455344214497492|\n",
      "|[0, 13, 4]    |[12]      |0.614774951076321 |1.393940434630193 |0.012377734655884005 |\n",
      "|[7, 6, 4]     |[11]      |0.5750688705234159|1.3928827653732556|0.0016449798563843933|\n",
      "+--------------+----------+------------------+------------------+---------------------+\n",
      "only showing top 20 rows\n",
      "\n"
     ]
    },
    {
     "name": "stderr",
     "output_type": "stream",
     "text": [
      "                                                                                \r"
     ]
    }
   ],
   "source": [
    "fp = FPGrowth(minConfidence=0.5, minSupport=0.001)\n",
    "fpm = fp.fit(df.select(df.relevant_attr.alias('items')))\n",
    "fpm.associationRules.orderBy(\"lift\", \"confidence\", ascending=False).show(truncate=False)"
   ]
  },
  {
   "cell_type": "markdown",
   "id": "f5aad034-6141-4113-850a-04c1cd3bea86",
   "metadata": {},
   "source": [
    "When personal struggles, mental health and mindset take a negative tone, they're 87% more likely to also have a moral tone"
   ]
  }
 ],
 "metadata": {
  "kernelspec": {
   "display_name": "Python 3 (ipykernel)",
   "language": "python",
   "name": "python3"
  },
  "language_info": {
   "codemirror_mode": {
    "name": "ipython",
    "version": 3
   },
   "file_extension": ".py",
   "mimetype": "text/x-python",
   "name": "python",
   "nbconvert_exporter": "python",
   "pygments_lexer": "ipython3",
   "version": "3.9.19"
  }
 },
 "nbformat": 4,
 "nbformat_minor": 5
}
