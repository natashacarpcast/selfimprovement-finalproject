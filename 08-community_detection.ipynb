{
 "cells": [
  {
   "cell_type": "code",
   "execution_count": 1,
   "id": "d68c25de-c069-44a4-8ccf-3cf66602e996",
   "metadata": {},
   "outputs": [],
   "source": [
    "import networkx as nx\n",
    "import pandas as pd\n",
    "import glob"
   ]
  },
  {
   "cell_type": "code",
   "execution_count": 2,
   "id": "bc523584-aa3d-485f-aa52-7c3bf58fae33",
   "metadata": {},
   "outputs": [],
   "source": [
    "# Load nodes\n",
    "nodes_df = pd.read_csv(\"data_selfimprovement/network-analysis/nodes-topics-morality-net.csv\")\n",
    "nodes = nodes_df[\"node\"].tolist()  # Convert to a list of nodes"
   ]
  },
  {
   "cell_type": "code",
   "execution_count": 3,
   "id": "5ac8764d-9018-469b-9f6f-62cf13c4108a",
   "metadata": {},
   "outputs": [
    {
     "data": {
      "text/html": [
       "<div>\n",
       "<style scoped>\n",
       "    .dataframe tbody tr th:only-of-type {\n",
       "        vertical-align: middle;\n",
       "    }\n",
       "\n",
       "    .dataframe tbody tr th {\n",
       "        vertical-align: top;\n",
       "    }\n",
       "\n",
       "    .dataframe thead th {\n",
       "        text-align: right;\n",
       "    }\n",
       "</style>\n",
       "<table border=\"1\" class=\"dataframe\">\n",
       "  <thead>\n",
       "    <tr style=\"text-align: right;\">\n",
       "      <th></th>\n",
       "      <th>node1_norm</th>\n",
       "      <th>node2_norm</th>\n",
       "      <th>weight</th>\n",
       "    </tr>\n",
       "  </thead>\n",
       "  <tbody>\n",
       "    <tr>\n",
       "      <th>42648</th>\n",
       "      <td>book</td>\n",
       "      <td>read</td>\n",
       "      <td>116662</td>\n",
       "    </tr>\n",
       "    <tr>\n",
       "      <th>35140</th>\n",
       "      <td>man</td>\n",
       "      <td>woman</td>\n",
       "      <td>85356</td>\n",
       "    </tr>\n",
       "    <tr>\n",
       "      <th>17789</th>\n",
       "      <td>learn</td>\n",
       "      <td>read</td>\n",
       "      <td>57908</td>\n",
       "    </tr>\n",
       "    <tr>\n",
       "      <th>9550</th>\n",
       "      <td>game</td>\n",
       "      <td>play</td>\n",
       "      <td>54228</td>\n",
       "    </tr>\n",
       "    <tr>\n",
       "      <th>69800</th>\n",
       "      <td>media</td>\n",
       "      <td>social</td>\n",
       "      <td>49230</td>\n",
       "    </tr>\n",
       "    <tr>\n",
       "      <th>...</th>\n",
       "      <td>...</td>\n",
       "      <td>...</td>\n",
       "      <td>...</td>\n",
       "    </tr>\n",
       "    <tr>\n",
       "      <th>62928</th>\n",
       "      <td>drink</td>\n",
       "      <td>thief</td>\n",
       "      <td>15</td>\n",
       "    </tr>\n",
       "    <tr>\n",
       "      <th>2061</th>\n",
       "      <td>innocence</td>\n",
       "      <td>practice</td>\n",
       "      <td>15</td>\n",
       "    </tr>\n",
       "    <tr>\n",
       "      <th>66421</th>\n",
       "      <td>boundaries</td>\n",
       "      <td>sins</td>\n",
       "      <td>15</td>\n",
       "    </tr>\n",
       "    <tr>\n",
       "      <th>51931</th>\n",
       "      <td>righteous</td>\n",
       "      <td>weird</td>\n",
       "      <td>15</td>\n",
       "    </tr>\n",
       "    <tr>\n",
       "      <th>39259</th>\n",
       "      <td>confidence</td>\n",
       "      <td>pitiful</td>\n",
       "      <td>15</td>\n",
       "    </tr>\n",
       "  </tbody>\n",
       "</table>\n",
       "<p>42761 rows × 3 columns</p>\n",
       "</div>"
      ],
      "text/plain": [
       "       node1_norm node2_norm  weight\n",
       "42648        book       read  116662\n",
       "35140         man      woman   85356\n",
       "17789       learn       read   57908\n",
       "9550         game       play   54228\n",
       "69800       media     social   49230\n",
       "...           ...        ...     ...\n",
       "62928       drink      thief      15\n",
       "2061    innocence   practice      15\n",
       "66421  boundaries       sins      15\n",
       "51931   righteous      weird      15\n",
       "39259  confidence    pitiful      15\n",
       "\n",
       "[42761 rows x 3 columns]"
      ]
     },
     "execution_count": 3,
     "metadata": {},
     "output_type": "execute_result"
    }
   ],
   "source": [
    "# Load edges\n",
    "csv_files = glob.glob(\"data_selfimprovement/network-analysis/edges_topics_morality_net/*.csv\")\n",
    "\n",
    "dfs = [pd.read_csv(file) for file in csv_files]\n",
    "\n",
    "edges_df = pd.concat(dfs, ignore_index=True)\n",
    "edges_df = edges_df[edges_df.weight >= 15]\n",
    "\n",
    "edges_df.sort_values(by='weight', ascending=False)"
   ]
  },
  {
   "cell_type": "code",
   "execution_count": 4,
   "id": "2811b28c-e0e9-41fe-9aa4-10083b0148aa",
   "metadata": {},
   "outputs": [],
   "source": [
    "# Create graph\n",
    "G = nx.Graph()\n",
    "\n",
    "#Add nodes\n",
    "G.add_nodes_from(nodes)  \n",
    "\n",
    "#Add edges\n",
    "for _, row in edges_df.iterrows():\n",
    "    G.add_edge(row['node1_norm'], row['node2_norm'], weight=row['weight'])"
   ]
  },
  {
   "cell_type": "markdown",
   "id": "e863cb03-c4cb-4430-93d6-1845d98e367d",
   "metadata": {},
   "source": [
    "Basic exploration"
   ]
  },
  {
   "cell_type": "code",
   "execution_count": 58,
   "id": "3688998b-daf9-472d-b5ce-315f82d0b29d",
   "metadata": {},
   "outputs": [
    {
     "data": {
      "text/plain": [
       "593"
      ]
     },
     "execution_count": 58,
     "metadata": {},
     "output_type": "execute_result"
    }
   ],
   "source": [
    "nx.number_of_nodes(G)"
   ]
  },
  {
   "cell_type": "code",
   "execution_count": 59,
   "id": "3e8d36e8-b307-43bc-aa5b-18aff82fb036",
   "metadata": {},
   "outputs": [
    {
     "data": {
      "text/plain": [
       "42761"
      ]
     },
     "execution_count": 59,
     "metadata": {},
     "output_type": "execute_result"
    }
   ],
   "source": [
    "nx.number_of_edges(G)"
   ]
  },
  {
   "cell_type": "code",
   "execution_count": 60,
   "id": "088299af-be5a-4c60-abff-03ff2980e638",
   "metadata": {},
   "outputs": [
    {
     "data": {
      "text/plain": [
       "0.2436135545326102"
      ]
     },
     "execution_count": 60,
     "metadata": {},
     "output_type": "execute_result"
    }
   ],
   "source": [
    "nx.density(G)"
   ]
  },
  {
   "cell_type": "code",
   "execution_count": 61,
   "id": "6cb20648-80fe-4620-8d24-66e6155e419d",
   "metadata": {},
   "outputs": [
    {
     "data": {
      "text/plain": [
       "101"
      ]
     },
     "execution_count": 61,
     "metadata": {},
     "output_type": "execute_result"
    }
   ],
   "source": [
    "nx.number_connected_components(G)"
   ]
  },
  {
   "cell_type": "code",
   "execution_count": 62,
   "id": "5e4d92e1",
   "metadata": {},
   "outputs": [],
   "source": [
    "# Get all connected components \n",
    "components = list(nx.connected_components(G))\n",
    "\n",
    "# Find the largest component\n",
    "largest_component = max(components, key=len)\n",
    "\n",
    "# Subgraph of the largest component\n",
    "G_red = G.subgraph(largest_component)"
   ]
  },
  {
   "cell_type": "code",
   "execution_count": 29,
   "id": "f86be83c",
   "metadata": {},
   "outputs": [
    {
     "data": {
      "text/plain": [
       "470"
      ]
     },
     "execution_count": 29,
     "metadata": {},
     "output_type": "execute_result"
    }
   ],
   "source": [
    "nx.number_of_nodes(G_red)"
   ]
  },
  {
   "cell_type": "code",
   "execution_count": 30,
   "id": "ee2f6f00",
   "metadata": {},
   "outputs": [
    {
     "data": {
      "text/plain": [
       "39275"
      ]
     },
     "execution_count": 30,
     "metadata": {},
     "output_type": "execute_result"
    }
   ],
   "source": [
    "nx.number_of_edges(G_red)"
   ]
  },
  {
   "cell_type": "code",
   "execution_count": 31,
   "id": "536ad888",
   "metadata": {},
   "outputs": [
    {
     "data": {
      "text/plain": [
       "0.3563489543165631"
      ]
     },
     "execution_count": 31,
     "metadata": {},
     "output_type": "execute_result"
    }
   ],
   "source": [
    "nx.density(G_red)"
   ]
  },
  {
   "cell_type": "markdown",
   "id": "a3ecdd68-2ecc-4dae-a7dc-0eb60e6d4271",
   "metadata": {},
   "source": [
    "Now, run community detection algorithm"
   ]
  },
  {
   "cell_type": "code",
   "execution_count": 32,
   "id": "215c4a14-9486-46c2-ba4d-40b198cff2c6",
   "metadata": {},
   "outputs": [],
   "source": [
    "communities = nx.community.louvain_communities(G_red, seed=123)"
   ]
  },
  {
   "cell_type": "code",
   "execution_count": 33,
   "id": "c2558592-dbba-4f44-aafe-e3f87311b5f0",
   "metadata": {},
   "outputs": [
    {
     "data": {
      "text/plain": [
       "4"
      ]
     },
     "execution_count": 33,
     "metadata": {},
     "output_type": "execute_result"
    }
   ],
   "source": [
    "len(communities)"
   ]
  },
  {
   "cell_type": "code",
   "execution_count": 34,
   "id": "63fa62e6-dbdc-4764-8cdb-760c6a35f951",
   "metadata": {},
   "outputs": [
    {
     "name": "stdout",
     "output_type": "stream",
     "text": [
      "{'criminal', 'fraud', 'country', 'high', 'greedy', 'house', 'disgrace', 'company', 'job', 'ungodly', 'thief', 'lewd', 'class', 'decently', 'move', 'chastise', 'duty', 'community', 'trouble', 'online', 'business', 'degree', 'innocence', 'university', 'misbehaving', 'ethic', 'irresponsible', 'molested', 'career', 'useless', 'parent', 'careless', 'ridiculously', 'blamed', 'child', 'disapproving', 'home', 'college', 'elitism', 'suck', 'movie', 'student', 'family', 'waste', 'money', 'lazy', 'corrupting', 'school', 'mother', 'horrible', 'car', 'pitiful', 'unqualified', 'sick', 'miser', 'kid', 'mom', 'corrupted', 'decent', 'scandal', 'snobs', 'disapproved', 'disapproves', 'study'}\n",
      "------------------------------\n",
      "{'sinner', 'generosity', 'process', 'cruel', 'foul', 'emotional', 'pressure', 'proud', 'ridicule', 'ideals', 'morality', 'cruelty', 'bravely', 'deceive', 'disapprove', 'emotion', 'sins', 'honour', 'truthfully', 'virtuous', 'truth', 'wronged', 'depression', 'ignorant', 'sinners', 'wrongly', 'vanity', 'unjust', 'selfish', 'journey', 'anger', 'ethical', 'pettiness', 'future', 'honor', 'honoring', 'sincere', 'sinister', 'heroic', 'sincerity', 'phony', 'deserve', 'sinned', 'value', 'inequity', 'desire', 'justice', 'choice', 'fault', 'behavior', 'unsavory', 'faults', 'deserving', 'courageous', 'patriot', 'commend', 'trustworthy', 'nobody', 'power', 'ignoble', 'worthwhile', 'generous', 'injustice', 'iniquity', 'character', 'present', 'mindset', 'absurd', 'acknowledge', 'equitable', 'grandiose', 'god', 'deserved', 'innocently', 'belief', 'mistakes', 'accept', 'betrayal', 'honorable', 'purpose', 'fairness', 'opinion', 'betrayer', 'truthful', 'scruples', 'corruption', 'ruthless', 'sinful', 'corrupt', 'honored', 'shame', 'unethical', 'worth', 'meaningful', 'mind', 'admit', 'courage', 'voice', 'therapist', 'betraying', 'regret', 'noble', 'brave', 'anxiety', 'challenge', 'unreasonable', 'reality', 'worthless', 'happiness', 'unfair', 'moment', 'society', 'liar', 'misuses', 'fear', 'angry', 'wrong', 'human', 'judge', 'heroes', 'immoral', 'prove', 'admirable', 'vengeance', 'adultery', 'heroines', 'dishonesty', 'therapy', 'feeling', 'prejudice', 'forgiving', 'boundaries', 'righteous', 'greed', 'virtue', 'wrongdoing', 'betrayed', 'unworthy', 'lie', 'unselfish', 'worthy', 'hypocrisy', 'ideal', 'excuse', 'hypocrites', 'forgiven', 'dignity', 'honest', 'evil', 'happy', 'abuse', 'sin', 'trust', 'true', 'failure', 'responsibility', 'tough', 'frauds', 'hero', 'selflessness', 'act', 'blame', 'cruelties', 'face', 'humane', 'treacherous', 'decision', 'forgive', 'sad', 'anxious', 'moral', 'absurdity', 'response', 'pain', 'honesty', 'forgives', 'success', 'conscience', 'comfort', 'environment'}\n",
      "------------------------------\n",
      "{'immodest', 'fakes', 'nefarious', 'petty', 'ridiculous', 'sexism', 'pedophile', 'toxic', 'outlaw', 'hair', 'arrogant', 'mistreating', 'hideously', 'nerd', 'offensive', 'nerdy', 'shamed', 'media', 'deceived', 'mistreat', 'dishonest', 'sissies', 'deceptive', 'accusation', 'haters', 'man', 'absurdities', 'confident', 'revolting', 'hypocrite', 'sneaky', 'account', 'spineless', 'pervy', 'disrespecting', 'partner', 'misogynistic', 'male', 'unacceptable', 'pussies', 'psycho', 'fun', 'guy', 'disrespectful', 'dumb', 'fake', 'sex', 'confidence', 'relationship', 'call', 'hideous', 'horrid', 'opinionated', 'comfortable', 'mistreated', 'equality', 'excusing', 'misconduct', 'depraved', 'judgy', 'personality', 'innocent', 'despicable', 'sexist', 'infidelity', 'puny', 'bigotry', 'inhumane', 'club', 'vile', 'vain', 'shit', 'kinda', 'fuck', 'dissing', 'perverted', 'pariah', 'overconfident', 'diss', 'dignified', 'shaming', 'accusations', 'hateful', 'reprehensible', 'weird', 'sissy', 'scum', 'cheat', 'faithful', 'inappropriate', 'conversation', 'overbearing', 'loyal', 'snide', 'bigoted', 'social', 'racist', 'untrustworthy', 'admonish', 'woman', 'unfaithful', 'instagram', 'excused', 'meet', 'group', 'prude', 'nice', 'slutty', 'interest', 'amoral', 'stupid', 'friend', 'pervert', 'betrays', 'cheats', 'disrespected', 'smug', 'misogynist', 'slandering', 'accuse', 'heroine', 'disrespect', 'standard', 'bigot', 'perverts', 'decency', 'respect', 'repulsive', 'betray', 'date', 'girl', 'cheating', 'treat', 'nerds', 'inconsiderate', 'porn', 'faking', 'attention', 'dude', 'outrageous', 'lazier', 'elitist', 'talk', 'molesting', 'slut', 'conceited', 'promiscuous', 'slander', 'traitor', 'attractive', 'rapist', 'promiscuity'}\n",
      "------------------------------\n",
      "{'project', 'energy', 'braver', 'dishonorable', 'misused', 'decadent', 'delinquent', 'play', 'food', 'conniving', 'drink', 'sleep', 'knowledgeable', 'healthy', 'useful', 'cruelly', 'lawlessness', 'youtube', 'infallible', 'lousy', 'information', 'productive', 'wicked', 'activity', 'learn', 'competence', 'read', 'specific', 'fatass', 'eat', 'development', 'task', 'water', 'teach', 'misuse', 'carelessness', 'doctor', 'hobbies', 'body', 'drug', 'routine', 'gluttony', 'cold', 'vilify', 'addiction', 'laziest', 'area', 'exercise', 'gym', 'book', 'hobby', 'humanitarian', 'laziness', 'smoke', 'skill', 'tv', 'wake', 'snob', 'music', 'competent', 'personal', 'list', 'content', 'video', 'diet', 'weight', 'internet', 'bed', 'health', 'practice', 'game', 'language', 'sneakily', 'sport'}\n",
      "------------------------------\n"
     ]
    }
   ],
   "source": [
    "for community in communities:\n",
    "    print(community)\n",
    "    print(\"------------------------------\")"
   ]
  },
  {
   "cell_type": "markdown",
   "id": "d6f83eaa",
   "metadata": {},
   "source": [
    "{'criminal', 'fraud', 'country', 'high', 'greedy', 'house', 'disgrace', 'company', 'job', 'ungodly', 'thief', 'lewd', 'class', 'decently', 'move', 'chastise', 'duty', 'community', 'trouble', 'online', 'business', 'degree', 'innocence', 'university', 'misbehaving', 'ethic', 'irresponsible', 'molested', 'career', 'useless', 'parent', 'careless', 'ridiculously', 'blamed', 'child', 'disapproving', 'home', 'college', 'elitism', 'suck', 'movie', 'student', 'family', 'waste', 'money', 'lazy', 'corrupting', 'school', 'mother', 'horrible', 'car', 'pitiful', 'unqualified', 'sick', 'miser', 'kid', 'mom', 'corrupted', 'decent', 'scandal', 'snobs', 'disapproved', 'disapproves', 'study'}\n",
    "\n",
    "\n",
    "\n",
    "{'sinner', 'generosity', 'process', 'cruel', 'foul', 'emotional', 'pressure', 'proud', 'ridicule', 'ideals', 'morality', 'cruelty', 'bravely', 'deceive', 'disapprove', 'emotion', 'sins', 'honour', 'truthfully', 'virtuous', 'truth', 'wronged', 'depression', 'ignorant', 'sinners', 'wrongly', 'vanity', 'unjust', 'selfish', 'journey', 'anger', 'ethical', 'pettiness', 'future', 'honor', 'honoring', 'sincere', 'sinister', 'heroic', 'sincerity', 'phony', 'deserve', 'sinned', 'value', 'inequity', 'desire', 'justice', 'choice', 'fault', 'behavior', 'unsavory', 'faults', 'deserving', 'courageous', 'patriot', 'commend', 'trustworthy', 'nobody', 'power', 'ignoble', 'worthwhile', 'generous', 'injustice', 'iniquity', 'character', 'present', 'mindset', 'absurd', 'acknowledge', 'equitable', 'grandiose', 'god', 'deserved', 'innocently', 'belief', 'mistakes', 'accept', 'betrayal', 'honorable', 'purpose', 'fairness', 'opinion', 'betrayer', 'truthful', 'scruples', 'corruption', 'ruthless', 'sinful', 'corrupt', 'honored', 'shame', 'unethical', 'worth', 'meaningful', 'mind', 'admit', 'courage', 'voice', 'therapist', 'betraying', 'regret', 'noble', 'brave', 'anxiety', 'challenge', 'unreasonable', 'reality', 'worthless', 'happiness', 'unfair', 'moment', 'society', 'liar', 'misuses', 'fear', 'angry', 'wrong', 'human', 'judge', 'heroes', 'immoral', 'prove', 'admirable', 'vengeance', 'adultery', 'heroines', 'dishonesty', 'therapy', 'feeling', 'prejudice', 'forgiving', 'boundaries', 'righteous', 'greed', 'virtue', 'wrongdoing', 'betrayed', 'unworthy', 'lie', 'unselfish', 'worthy', 'hypocrisy', 'ideal', 'excuse', 'hypocrites', 'forgiven', 'dignity', 'honest', 'evil', 'happy', 'abuse', 'sin', 'trust', 'true', 'failure', 'responsibility', 'tough', 'frauds', 'hero', 'selflessness', 'act', 'blame', 'cruelties', 'face', 'humane', 'treacherous', 'decision', 'forgive', 'sad', 'anxious', 'moral', 'absurdity', 'response', 'pain', 'honesty', 'forgives', 'success', 'conscience', 'comfort', 'environment'}\n",
    "\n",
    "\n",
    "\n",
    "{'immodest', 'fakes', 'nefarious', 'petty', 'ridiculous', 'sexism', 'pedophile', 'toxic', 'outlaw', 'hair', 'arrogant', 'mistreating', 'hideously', 'nerd', 'offensive', 'nerdy', 'shamed', 'media', 'deceived', 'mistreat', 'dishonest', 'sissies', 'deceptive', 'accusation', 'haters', 'man', 'absurdities', 'confident', 'revolting', 'hypocrite', 'sneaky', 'account', 'spineless', 'pervy', 'disrespecting', 'partner', 'misogynistic', 'male', 'unacceptable', 'pussies', 'psycho', 'fun', 'guy', 'disrespectful', 'dumb', 'fake', 'sex', 'confidence', 'relationship', 'call', 'hideous', 'horrid', 'opinionated', 'comfortable', 'mistreated', 'equality', 'excusing', 'misconduct', 'depraved', 'judgy', 'personality', 'innocent', 'despicable', 'sexist', 'infidelity', 'puny', 'bigotry', 'inhumane', 'club', 'vile', 'vain', 'shit', 'kinda', 'fuck', 'dissing', 'perverted', 'pariah', 'overconfident', 'diss', 'dignified', 'shaming', 'accusations', 'hateful', 'reprehensible', 'weird', 'sissy', 'scum', 'cheat', 'faithful', 'inappropriate', 'conversation', 'overbearing', 'loyal', 'snide', 'bigoted', 'social', 'racist', 'untrustworthy', 'admonish', 'woman', 'unfaithful', 'instagram', 'excused', 'meet', 'group', 'prude', 'nice', 'slutty', 'interest', 'amoral', 'stupid', 'friend', 'pervert', 'betrays', 'cheats', 'disrespected', 'smug', 'misogynist', 'slandering', 'accuse', 'heroine', 'disrespect', 'standard', 'bigot', 'perverts', 'decency', 'respect', 'repulsive', 'betray', 'date', 'girl', 'cheating', 'treat', 'nerds', 'inconsiderate', 'porn', 'faking', 'attention', 'dude', 'outrageous', 'lazier', 'elitist', 'talk', 'molesting', 'slut', 'conceited', 'promiscuous', 'slander', 'traitor', 'attractive', 'rapist', 'promiscuity'}\n",
    "\n",
    "\n",
    "\n",
    "{'project', 'energy', 'braver', 'dishonorable', 'misused', 'decadent', 'delinquent', 'play', 'food', 'conniving', 'drink', 'sleep', 'knowledgeable', 'healthy', 'useful', 'cruelly', 'lawlessness', 'youtube', 'infallible', 'lousy', 'information', 'productive', 'wicked', 'activity', 'learn', 'competence', 'read', 'specific', 'fatass', 'eat', 'development', 'task', 'water', 'teach', 'misuse', 'carelessness', 'doctor', 'hobbies', 'body', 'drug', 'routine', 'gluttony', 'cold', 'vilify', 'addiction', 'laziest', 'area', 'exercise', 'gym', 'book', 'hobby', 'humanitarian', 'laziness', 'smoke', 'skill', 'tv', 'wake', 'snob', 'music', 'competent', 'personal', 'list', 'content', 'video', 'diet', 'weight', 'internet', 'bed', 'health', 'practice', 'game', 'language', 'sneakily', 'sport'}\n",
    "\n",
    "\n"
   ]
  },
  {
   "cell_type": "markdown",
   "id": "c0e83c48",
   "metadata": {},
   "source": [
    "### Create table"
   ]
  },
  {
   "cell_type": "code",
   "execution_count": 12,
   "id": "75bd1dbf",
   "metadata": {},
   "outputs": [],
   "source": [
    "d = {\"Cluster 1\": [\"criminal, fraud, country, high, greedy, house, disgrace, company, job, ungodly, thief, lewd, class, decently, move, chastise, duty, community, trouble, online, business, degree, innocence, university, misbehaving, ethic, irresponsible, molested, career, useless, parent, careless, ridiculously, blamed, child, disapproving, home, college, elitism, suck, movie, student, family, waste, money, lazy, corrupting, school, mother, horrible, car, pitiful, unqualified, sick, miser, kid, mom, corrupted, decent, scandal, snobs, disapproved, disapproves, study\"],\n",
    "     \n",
    "     \"Cluster 2\": [\"sinner, generosity, process, cruel, foul, emotional, pressure, proud, ridicule, ideals, morality, cruelty, bravely, deceive, disapprove, emotion, sins, honour, truthfully, virtuous, truth, wronged, depression, ignorant, sinners, wrongly, vanity, unjust, selfish, journey, anger, ethical, pettiness, future, honor, honoring, sincere, sinister, heroic, sincerity, phony, deserve, sinned, value, inequity, desire, justice, choice, fault, behavior, unsavory, faults, deserving, courageous, patriot, commend, trustworthy, nobody, power, ignoble, worthwhile, generous, injustice, iniquity, character, present, mindset, absurd, acknowledge, equitable, grandiose, god, deserved, innocently, belief, mistakes, accept, betrayal, honorable, purpose, fairness, opinion, betrayer, truthful, scruples, corruption, ruthless, sinful, corrupt, honored, shame, unethical, worth, meaningful, mind, admit, courage, voice, therapist, betraying, regret, noble, brave, anxiety, challenge, unreasonable, reality, worthless, happiness, unfair, moment, society, liar, misuses, fear, angry, wrong, human, judge, heroes, immoral, prove, admirable, vengeance, adultery, heroines, dishonesty, therapy, feeling, prejudice, forgiving, boundaries, righteous, greed, virtue, wrongdoing, betrayed, unworthy, lie, unselfish, worthy, hypocrisy, ideal, excuse, hypocrites, forgiven, dignity, honest, evil, happy, abuse, sin, trust, true, failure, responsibility, tough, frauds, hero, selflessness, act, blame, cruelties, face, humane, treacherous, decision, forgive, sad, anxious, moral, absurdity, response, pain, honesty, forgives, success, conscience, comfort, environment\"]}\n",
    "     \n",
    "d2 = {\"Cluster 3\": [\"immodest, fakes, nefarious, petty, ridiculous, sexism, pedophile, toxic, outlaw, hair, arrogant, mistreating, hideously, nerd, offensive, nerdy, shamed, media, deceived, mistreat, dishonest, sissies, deceptive, accusation, haters, man, absurdities, confident, revolting, hypocrite, sneaky, account, spineless, pervy, disrespecting, partner, misogynistic, male, unacceptable, pussies, psycho, fun, guy, disrespectful, dumb, fake, sex, confidence, relationship, call, hideous, horrid, opinionated, comfortable, mistreated, equality, excusing, misconduct, depraved, judgy, personality, innocent, despicable, sexist, infidelity, puny, bigotry, inhumane, club, vile, vain, shit, kinda, fuck, dissing, perverted, pariah, overconfident, diss, dignified, shaming, accusations, hateful, reprehensible, weird, sissy, scum, cheat, faithful, inappropriate, conversation, overbearing, loyal, snide, bigoted, social, racist, untrustworthy, admonish, woman, unfaithful, instagram, excused, meet, group, prude, nice, slutty, interest, amoral, stupid, friend, pervert, betrays, cheats, disrespected, smug, misogynist, slandering, accuse, heroine, disrespect, standard, bigot, perverts, decency, respect, repulsive, betray, date, girl, cheating, treat, nerds, inconsiderate, porn, faking, attention, dude, outrageous, lazier, elitist, talk, molesting, slut, conceited, promiscuous, slander, traitor, attractive, rapist, promiscuity\"],\n",
    "      \n",
    "    \"Cluster 4\": [\"project, energy, braver, dishonorable, misused, decadent, delinquent, play, food, conniving, drink, sleep, knowledgeable, healthy, useful, cruelly, lawlessness, youtube, infallible, lousy, information, productive, wicked, activity, learn, competence, read, specific, fatass, eat, development, task, water, teach, misuse, carelessness, doctor, hobbies, body, drug, routine, gluttony, cold, vilify, addiction, laziest, area, exercise, gym, book, hobby, humanitarian, laziness, smoke, skill, tv, wake, snob, music, competent, personal, list, content, video, diet, weight, internet, bed, health, practice, game, language, sneakily, sport\"]}"
   ]
  },
  {
   "cell_type": "code",
   "execution_count": 13,
   "id": "37c62afc",
   "metadata": {},
   "outputs": [
    {
     "data": {
      "text/html": [
       "<div>\n",
       "<style scoped>\n",
       "    .dataframe tbody tr th:only-of-type {\n",
       "        vertical-align: middle;\n",
       "    }\n",
       "\n",
       "    .dataframe tbody tr th {\n",
       "        vertical-align: top;\n",
       "    }\n",
       "\n",
       "    .dataframe thead th {\n",
       "        text-align: right;\n",
       "    }\n",
       "</style>\n",
       "<table border=\"1\" class=\"dataframe\">\n",
       "  <thead>\n",
       "    <tr style=\"text-align: right;\">\n",
       "      <th></th>\n",
       "      <th>Cluster 1</th>\n",
       "      <th>Cluster 2</th>\n",
       "    </tr>\n",
       "  </thead>\n",
       "  <tbody>\n",
       "    <tr>\n",
       "      <th>0</th>\n",
       "      <td>criminal, fraud, country, high, greedy, house, disgrace, company, job, ungodly, thief, lewd, class, decently, move, chastise, duty, community, trouble, online, business, degree, innocence, university, misbehaving, ethic, irresponsible, molested, career, useless, parent, careless, ridiculously, blamed, child, disapproving, home, college, elitism, suck, movie, student, family, waste, money, lazy, corrupting, school, mother, horrible, car, pitiful, unqualified, sick, miser, kid, mom, corrupted, decent, scandal, snobs, disapproved, disapproves, study</td>\n",
       "      <td>sinner, generosity, process, cruel, foul, emotional, pressure, proud, ridicule, ideals, morality, cruelty, bravely, deceive, disapprove, emotion, sins, honour, truthfully, virtuous, truth, wronged, depression, ignorant, sinners, wrongly, vanity, unjust, selfish, journey, anger, ethical, pettiness, future, honor, honoring, sincere, sinister, heroic, sincerity, phony, deserve, sinned, value, inequity, desire, justice, choice, fault, behavior, unsavory, faults, deserving, courageous, patriot, commend, trustworthy, nobody, power, ignoble, worthwhile, generous, injustice, iniquity, character, present, mindset, absurd, acknowledge, equitable, grandiose, god, deserved, innocently, belief, mistakes, accept, betrayal, honorable, purpose, fairness, opinion, betrayer, truthful, scruples, corruption, ruthless, sinful, corrupt, honored, shame, unethical, worth, meaningful, mind, admit, courage, voice, therapist, betraying, regret, noble, brave, anxiety, challenge, unreasonable, reality, worthless, happiness, unfair, moment, society, liar, misuses, fear, angry, wrong, human, judge, heroes, immoral, prove, admirable, vengeance, adultery, heroines, dishonesty, therapy, feeling, prejudice, forgiving, boundaries, righteous, greed, virtue, wrongdoing, betrayed, unworthy, lie, unselfish, worthy, hypocrisy, ideal, excuse, hypocrites, forgiven, dignity, honest, evil, happy, abuse, sin, trust, true, failure, responsibility, tough, frauds, hero, selflessness, act, blame, cruelties, face, humane, treacherous, decision, forgive, sad, anxious, moral, absurdity, response, pain, honesty, forgives, success, conscience, comfort, environment</td>\n",
       "    </tr>\n",
       "  </tbody>\n",
       "</table>\n",
       "</div>"
      ],
      "text/plain": [
       "                                                                                                                                                                                                                                                                                                                                                                                                                                                                                                                                                                  Cluster 1  \\\n",
       "0  criminal, fraud, country, high, greedy, house, disgrace, company, job, ungodly, thief, lewd, class, decently, move, chastise, duty, community, trouble, online, business, degree, innocence, university, misbehaving, ethic, irresponsible, molested, career, useless, parent, careless, ridiculously, blamed, child, disapproving, home, college, elitism, suck, movie, student, family, waste, money, lazy, corrupting, school, mother, horrible, car, pitiful, unqualified, sick, miser, kid, mom, corrupted, decent, scandal, snobs, disapproved, disapproves, study   \n",
       "\n",
       "                                                                                                                                                                                                                                                                                                                                                                                                                                                                                                                                                                                                                                                                                                                                                                                                                                                                                                                                                                                                                                                                                                                                                                                                                                                                                                                                                                                                                                                                                                                                                                                                                                                                                               Cluster 2  \n",
       "0  sinner, generosity, process, cruel, foul, emotional, pressure, proud, ridicule, ideals, morality, cruelty, bravely, deceive, disapprove, emotion, sins, honour, truthfully, virtuous, truth, wronged, depression, ignorant, sinners, wrongly, vanity, unjust, selfish, journey, anger, ethical, pettiness, future, honor, honoring, sincere, sinister, heroic, sincerity, phony, deserve, sinned, value, inequity, desire, justice, choice, fault, behavior, unsavory, faults, deserving, courageous, patriot, commend, trustworthy, nobody, power, ignoble, worthwhile, generous, injustice, iniquity, character, present, mindset, absurd, acknowledge, equitable, grandiose, god, deserved, innocently, belief, mistakes, accept, betrayal, honorable, purpose, fairness, opinion, betrayer, truthful, scruples, corruption, ruthless, sinful, corrupt, honored, shame, unethical, worth, meaningful, mind, admit, courage, voice, therapist, betraying, regret, noble, brave, anxiety, challenge, unreasonable, reality, worthless, happiness, unfair, moment, society, liar, misuses, fear, angry, wrong, human, judge, heroes, immoral, prove, admirable, vengeance, adultery, heroines, dishonesty, therapy, feeling, prejudice, forgiving, boundaries, righteous, greed, virtue, wrongdoing, betrayed, unworthy, lie, unselfish, worthy, hypocrisy, ideal, excuse, hypocrites, forgiven, dignity, honest, evil, happy, abuse, sin, trust, true, failure, responsibility, tough, frauds, hero, selflessness, act, blame, cruelties, face, humane, treacherous, decision, forgive, sad, anxious, moral, absurdity, response, pain, honesty, forgives, success, conscience, comfort, environment  "
      ]
     },
     "metadata": {},
     "output_type": "display_data"
    },
    {
     "data": {
      "text/html": [
       "<div>\n",
       "<style scoped>\n",
       "    .dataframe tbody tr th:only-of-type {\n",
       "        vertical-align: middle;\n",
       "    }\n",
       "\n",
       "    .dataframe tbody tr th {\n",
       "        vertical-align: top;\n",
       "    }\n",
       "\n",
       "    .dataframe thead th {\n",
       "        text-align: right;\n",
       "    }\n",
       "</style>\n",
       "<table border=\"1\" class=\"dataframe\">\n",
       "  <thead>\n",
       "    <tr style=\"text-align: right;\">\n",
       "      <th></th>\n",
       "      <th>Cluster 3</th>\n",
       "      <th>Cluster 4</th>\n",
       "    </tr>\n",
       "  </thead>\n",
       "  <tbody>\n",
       "    <tr>\n",
       "      <th>0</th>\n",
       "      <td>immodest, fakes, nefarious, petty, ridiculous, sexism, pedophile, toxic, outlaw, hair, arrogant, mistreating, hideously, nerd, offensive, nerdy, shamed, media, deceived, mistreat, dishonest, sissies, deceptive, accusation, haters, man, absurdities, confident, revolting, hypocrite, sneaky, account, spineless, pervy, disrespecting, partner, misogynistic, male, unacceptable, pussies, psycho, fun, guy, disrespectful, dumb, fake, sex, confidence, relationship, call, hideous, horrid, opinionated, comfortable, mistreated, equality, excusing, misconduct, depraved, judgy, personality, innocent, despicable, sexist, infidelity, puny, bigotry, inhumane, club, vile, vain, shit, kinda, fuck, dissing, perverted, pariah, overconfident, diss, dignified, shaming, accusations, hateful, reprehensible, weird, sissy, scum, cheat, faithful, inappropriate, conversation, overbearing, loyal, snide, bigoted, social, racist, untrustworthy, admonish, woman, unfaithful, instagram, excused, meet, group, prude, nice, slutty, interest, amoral, stupid, friend, pervert, betrays, cheats, disrespected, smug, misogynist, slandering, accuse, heroine, disrespect, standard, bigot, perverts, decency, respect, repulsive, betray, date, girl, cheating, treat, nerds, inconsiderate, porn, faking, attention, dude, outrageous, lazier, elitist, talk, molesting, slut, conceited, promiscuous, slander, traitor, attractive, rapist, promiscuity</td>\n",
       "      <td>project, energy, braver, dishonorable, misused, decadent, delinquent, play, food, conniving, drink, sleep, knowledgeable, healthy, useful, cruelly, lawlessness, youtube, infallible, lousy, information, productive, wicked, activity, learn, competence, read, specific, fatass, eat, development, task, water, teach, misuse, carelessness, doctor, hobbies, body, drug, routine, gluttony, cold, vilify, addiction, laziest, area, exercise, gym, book, hobby, humanitarian, laziness, smoke, skill, tv, wake, snob, music, competent, personal, list, content, video, diet, weight, internet, bed, health, practice, game, language, sneakily, sport</td>\n",
       "    </tr>\n",
       "  </tbody>\n",
       "</table>\n",
       "</div>"
      ],
      "text/plain": [
       "                                                                                                                                                                                                                                                                                                                                                                                                                                                                                                                                                                                                                                                                                                                                                                                                                                                                                                                                                                                                                                                                                                                                                                                                                                                                                                                                                                                                                                                               Cluster 3  \\\n",
       "0  immodest, fakes, nefarious, petty, ridiculous, sexism, pedophile, toxic, outlaw, hair, arrogant, mistreating, hideously, nerd, offensive, nerdy, shamed, media, deceived, mistreat, dishonest, sissies, deceptive, accusation, haters, man, absurdities, confident, revolting, hypocrite, sneaky, account, spineless, pervy, disrespecting, partner, misogynistic, male, unacceptable, pussies, psycho, fun, guy, disrespectful, dumb, fake, sex, confidence, relationship, call, hideous, horrid, opinionated, comfortable, mistreated, equality, excusing, misconduct, depraved, judgy, personality, innocent, despicable, sexist, infidelity, puny, bigotry, inhumane, club, vile, vain, shit, kinda, fuck, dissing, perverted, pariah, overconfident, diss, dignified, shaming, accusations, hateful, reprehensible, weird, sissy, scum, cheat, faithful, inappropriate, conversation, overbearing, loyal, snide, bigoted, social, racist, untrustworthy, admonish, woman, unfaithful, instagram, excused, meet, group, prude, nice, slutty, interest, amoral, stupid, friend, pervert, betrays, cheats, disrespected, smug, misogynist, slandering, accuse, heroine, disrespect, standard, bigot, perverts, decency, respect, repulsive, betray, date, girl, cheating, treat, nerds, inconsiderate, porn, faking, attention, dude, outrageous, lazier, elitist, talk, molesting, slut, conceited, promiscuous, slander, traitor, attractive, rapist, promiscuity   \n",
       "\n",
       "                                                                                                                                                                                                                                                                                                                                                                                                                                                                                                                                                                                                                                                   Cluster 4  \n",
       "0  project, energy, braver, dishonorable, misused, decadent, delinquent, play, food, conniving, drink, sleep, knowledgeable, healthy, useful, cruelly, lawlessness, youtube, infallible, lousy, information, productive, wicked, activity, learn, competence, read, specific, fatass, eat, development, task, water, teach, misuse, carelessness, doctor, hobbies, body, drug, routine, gluttony, cold, vilify, addiction, laziest, area, exercise, gym, book, hobby, humanitarian, laziness, smoke, skill, tv, wake, snob, music, competent, personal, list, content, video, diet, weight, internet, bed, health, practice, game, language, sneakily, sport  "
      ]
     },
     "metadata": {},
     "output_type": "display_data"
    }
   ],
   "source": [
    "df_1 = pd.DataFrame(data=d)\n",
    "df_2 = pd.DataFrame(data=d2)\n",
    "with pd.option_context('display.max_colwidth', None):\n",
    "    display(df_1)\n",
    "    display(df_2)"
   ]
  }
 ],
 "metadata": {
  "kernelspec": {
   "display_name": "Python 3 (ipykernel)",
   "language": "python",
   "name": "python3"
  },
  "language_info": {
   "codemirror_mode": {
    "name": "ipython",
    "version": 3
   },
   "file_extension": ".py",
   "mimetype": "text/x-python",
   "name": "python",
   "nbconvert_exporter": "python",
   "pygments_lexer": "ipython3",
   "version": "3.10.14"
  }
 },
 "nbformat": 4,
 "nbformat_minor": 5
}
